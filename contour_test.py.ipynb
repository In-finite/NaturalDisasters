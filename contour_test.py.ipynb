{
 "cells": [
  {
   "cell_type": "code",
   "execution_count": 38,
   "metadata": {},
   "outputs": [
    {
     "data": {
      "text/html": [
       "<script type=\"text/javascript\">window.PlotlyConfig = {MathJaxConfig: 'local'};</script><script type=\"text/javascript\">if (window.MathJax) {MathJax.Hub.Config({SVG: {font: \"STIX-Web\"}});}</script><script>requirejs.config({paths: { 'plotly': ['https://cdn.plot.ly/plotly-latest.min']},});if(!window._Plotly) {require(['plotly'],function(plotly) {window._Plotly=plotly;});}</script>"
      ],
      "text/vnd.plotly.v1+html": [
       "<script type=\"text/javascript\">window.PlotlyConfig = {MathJaxConfig: 'local'};</script><script type=\"text/javascript\">if (window.MathJax) {MathJax.Hub.Config({SVG: {font: \"STIX-Web\"}});}</script><script>requirejs.config({paths: { 'plotly': ['https://cdn.plot.ly/plotly-latest.min']},});if(!window._Plotly) {require(['plotly'],function(plotly) {window._Plotly=plotly;});}</script>"
      ]
     },
     "metadata": {},
     "output_type": "display_data"
    }
   ],
   "source": [
    "from plotly.offline import download_plotlyjs, init_notebook_mode, plot, iplot\n",
    "import pandas as pd\n",
    "import plotly.graph_objs as go\n",
    "init_notebook_mode(connected=True)"
   ]
  },
  {
   "cell_type": "code",
   "execution_count": 39,
   "metadata": {},
   "outputs": [],
   "source": [
    "df = pd.read_csv('https://earthquake.usgs.gov/earthquakes/feed/v1.0/summary/all_hour.csv')"
   ]
  },
  {
   "cell_type": "code",
   "execution_count": 40,
   "metadata": {
    "scrolled": false
   },
   "outputs": [
    {
     "data": {
      "text/plain": [
       "[[1.0], [5.0], [1.5], [1.17]]"
      ]
     },
     "execution_count": 40,
     "metadata": {},
     "output_type": "execute_result"
    }
   ],
   "source": [
    "mags = list(df['mag'])\n",
    "ez = [[i] for i in mags]\n",
    "ez"
   ]
  },
  {
   "cell_type": "code",
   "execution_count": 41,
   "metadata": {},
   "outputs": [],
   "source": [
    "with open('map_token.txt', 'r') as mk:\n",
    "\tmap_token = mk.read()"
   ]
  },
  {
   "cell_type": "code",
   "execution_count": 42,
   "metadata": {},
   "outputs": [],
   "source": [
    "def plots():\n",
    "    quakes = [\n",
    "        go.Scattermapbox(\n",
    "            lat=df['latitude'], \n",
    "            lon=df['longitude'],\n",
    "            mode='markers',\n",
    "            marker=dict(\n",
    "                size=8,\n",
    "            ),\n",
    "            text='', \n",
    "            hoverinfo='text', \n",
    "            showlegend=False\n",
    "        )\n",
    "    ]\n",
    "    layout = go.Layout(\n",
    "            height=680, autosize=True, showlegend=False,\n",
    "          hovermode='closest',\n",
    "          geo=dict(\n",
    "            projection=dict(type=\"equirectangular\"),\n",
    "          ),\n",
    "          mapbox=dict(\n",
    "            accesstoken=map_token, bearing=1,\n",
    "\n",
    "                pitch=0, zoom=1, style='dark'\n",
    "            )\n",
    "        )\n",
    "\n",
    "    fig = {'data' : quakes, 'layout' : layout}\n",
    "    return iplot(fig)"
   ]
  },
  {
   "cell_type": "code",
   "execution_count": 43,
   "metadata": {
    "scrolled": false
   },
   "outputs": [
    {
     "data": {
      "application/vnd.plotly.v1+json": {
       "data": [
        {
         "hoverinfo": "text",
         "lat": [
          61.522,
          -5.2137,
          61.7712,
          34.9906667
         ],
         "lon": [
          -149.9127,
          146.332,
          -140.0927,
          -118.49216670000001
         ],
         "marker": {
          "size": 8
         },
         "mode": "markers",
         "showlegend": false,
         "text": "",
         "type": "scattermapbox",
         "uid": "a4854a0c-8afd-4032-b813-bf685f32a6b9"
        }
       ],
       "layout": {
        "autosize": true,
        "geo": {
         "projection": {
          "type": "equirectangular"
         }
        },
        "height": 680,
        "hovermode": "closest",
        "mapbox": {
         "accesstoken": "pk.eyJ1IjoiY2hhb3RpYy1lbmlnbWEiLCJhIjoiY2ppNXhxaWNiMG1qeTN4cjAwMTd0cnI1aCJ9.vPNGDu_1nXnuYAZ4pVZ9Fg",
         "bearing": 1,
         "pitch": 0,
         "style": "dark",
         "zoom": 1
        },
        "showlegend": false
       }
      },
      "text/html": [
       "<div id=\"3260668b-7209-4a30-a773-90818a8848fa\" style=\"height: 680px; width: 100%;\" class=\"plotly-graph-div\"></div><script type=\"text/javascript\">require([\"plotly\"], function(Plotly) { window.PLOTLYENV=window.PLOTLYENV || {};window.PLOTLYENV.BASE_URL=\"https://plot.ly\";Plotly.newPlot(\"3260668b-7209-4a30-a773-90818a8848fa\", [{\"hoverinfo\": \"text\", \"lat\": [61.522, -5.2137, 61.7712, 34.9906667], \"lon\": [-149.9127, 146.332, -140.0927, -118.49216670000001], \"marker\": {\"size\": 8}, \"mode\": \"markers\", \"showlegend\": false, \"text\": \"\", \"type\": \"scattermapbox\", \"uid\": \"21418b37-729a-4fa2-b41d-6b0db74328cf\"}], {\"autosize\": true, \"geo\": {\"projection\": {\"type\": \"equirectangular\"}}, \"height\": 680, \"hovermode\": \"closest\", \"mapbox\": {\"accesstoken\": \"pk.eyJ1IjoiY2hhb3RpYy1lbmlnbWEiLCJhIjoiY2ppNXhxaWNiMG1qeTN4cjAwMTd0cnI1aCJ9.vPNGDu_1nXnuYAZ4pVZ9Fg\", \"bearing\": 1, \"pitch\": 0, \"style\": \"dark\", \"zoom\": 1}, \"showlegend\": false}, {\"showLink\": true, \"linkText\": \"Export to plot.ly\"})});</script><script type=\"text/javascript\">window.addEventListener(\"resize\", function(){Plotly.Plots.resize(document.getElementById(\"3260668b-7209-4a30-a773-90818a8848fa\"));});</script>"
      ],
      "text/vnd.plotly.v1+html": [
       "<div id=\"3260668b-7209-4a30-a773-90818a8848fa\" style=\"height: 680px; width: 100%;\" class=\"plotly-graph-div\"></div><script type=\"text/javascript\">require([\"plotly\"], function(Plotly) { window.PLOTLYENV=window.PLOTLYENV || {};window.PLOTLYENV.BASE_URL=\"https://plot.ly\";Plotly.newPlot(\"3260668b-7209-4a30-a773-90818a8848fa\", [{\"hoverinfo\": \"text\", \"lat\": [61.522, -5.2137, 61.7712, 34.9906667], \"lon\": [-149.9127, 146.332, -140.0927, -118.49216670000001], \"marker\": {\"size\": 8}, \"mode\": \"markers\", \"showlegend\": false, \"text\": \"\", \"type\": \"scattermapbox\", \"uid\": \"21418b37-729a-4fa2-b41d-6b0db74328cf\"}], {\"autosize\": true, \"geo\": {\"projection\": {\"type\": \"equirectangular\"}}, \"height\": 680, \"hovermode\": \"closest\", \"mapbox\": {\"accesstoken\": \"pk.eyJ1IjoiY2hhb3RpYy1lbmlnbWEiLCJhIjoiY2ppNXhxaWNiMG1qeTN4cjAwMTd0cnI1aCJ9.vPNGDu_1nXnuYAZ4pVZ9Fg\", \"bearing\": 1, \"pitch\": 0, \"style\": \"dark\", \"zoom\": 1}, \"showlegend\": false}, {\"showLink\": true, \"linkText\": \"Export to plot.ly\"})});</script><script type=\"text/javascript\">window.addEventListener(\"resize\", function(){Plotly.Plots.resize(document.getElementById(\"3260668b-7209-4a30-a773-90818a8848fa\"));});</script>"
      ]
     },
     "metadata": {},
     "output_type": "display_data"
    }
   ],
   "source": [
    "plots()"
   ]
  },
  {
   "cell_type": "code",
   "execution_count": 44,
   "metadata": {},
   "outputs": [],
   "source": [
    "data_c = [\n",
    "    go.Contour(\n",
    "        z=ez,\n",
    "        x=list(df['latitude']),\n",
    "        y=list(df['longitude'])\n",
    "    )\n",
    "]"
   ]
  },
  {
   "cell_type": "code",
   "execution_count": 45,
   "metadata": {},
   "outputs": [
    {
     "data": {
      "application/vnd.plotly.v1+json": {
       "data": [
        {
         "type": "contour",
         "uid": "16ba3b65-c2a3-43b7-864d-18e3bf15d1eb",
         "x": [
          61.522,
          -5.2137,
          61.7712,
          34.9906667
         ],
         "y": [
          -149.9127,
          146.332,
          -140.0927,
          -118.49216670000001
         ],
         "z": [
          [
           1
          ],
          [
           5
          ],
          [
           1.5
          ],
          [
           1.17
          ]
         ]
        }
       ],
       "layout": {}
      },
      "text/html": [
       "<div id=\"9f946a3d-b858-4dc5-8c04-d951024d75bc\" style=\"height: 525px; width: 100%;\" class=\"plotly-graph-div\"></div><script type=\"text/javascript\">require([\"plotly\"], function(Plotly) { window.PLOTLYENV=window.PLOTLYENV || {};window.PLOTLYENV.BASE_URL=\"https://plot.ly\";Plotly.newPlot(\"9f946a3d-b858-4dc5-8c04-d951024d75bc\", [{\"x\": [61.522, -5.2137, 61.7712, 34.9906667], \"y\": [-149.9127, 146.332, -140.0927, -118.49216670000001], \"z\": [[1.0], [5.0], [1.5], [1.17]], \"type\": \"contour\", \"uid\": \"ef79a5f6-1f7a-46e5-b2fb-fe1f1b1e8e6b\"}], {}, {\"showLink\": true, \"linkText\": \"Export to plot.ly\"})});</script><script type=\"text/javascript\">window.addEventListener(\"resize\", function(){Plotly.Plots.resize(document.getElementById(\"9f946a3d-b858-4dc5-8c04-d951024d75bc\"));});</script>"
      ],
      "text/vnd.plotly.v1+html": [
       "<div id=\"9f946a3d-b858-4dc5-8c04-d951024d75bc\" style=\"height: 525px; width: 100%;\" class=\"plotly-graph-div\"></div><script type=\"text/javascript\">require([\"plotly\"], function(Plotly) { window.PLOTLYENV=window.PLOTLYENV || {};window.PLOTLYENV.BASE_URL=\"https://plot.ly\";Plotly.newPlot(\"9f946a3d-b858-4dc5-8c04-d951024d75bc\", [{\"x\": [61.522, -5.2137, 61.7712, 34.9906667], \"y\": [-149.9127, 146.332, -140.0927, -118.49216670000001], \"z\": [[1.0], [5.0], [1.5], [1.17]], \"type\": \"contour\", \"uid\": \"ef79a5f6-1f7a-46e5-b2fb-fe1f1b1e8e6b\"}], {}, {\"showLink\": true, \"linkText\": \"Export to plot.ly\"})});</script><script type=\"text/javascript\">window.addEventListener(\"resize\", function(){Plotly.Plots.resize(document.getElementById(\"9f946a3d-b858-4dc5-8c04-d951024d75bc\"));});</script>"
      ]
     },
     "metadata": {},
     "output_type": "display_data"
    }
   ],
   "source": [
    "iplot(data_c)"
   ]
  },
  {
   "cell_type": "code",
   "execution_count": null,
   "metadata": {},
   "outputs": [],
   "source": []
  }
 ],
 "metadata": {
  "kernelspec": {
   "display_name": "Python 3",
   "language": "python",
   "name": "python3"
  },
  "language_info": {
   "codemirror_mode": {
    "name": "ipython",
    "version": 3
   },
   "file_extension": ".py",
   "mimetype": "text/x-python",
   "name": "python",
   "nbconvert_exporter": "python",
   "pygments_lexer": "ipython3",
   "version": "3.6.6"
  }
 },
 "nbformat": 4,
 "nbformat_minor": 2
}
