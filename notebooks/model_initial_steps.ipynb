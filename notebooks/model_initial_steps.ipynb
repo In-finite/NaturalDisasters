{
 "cells": [
  {
   "cell_type": "code",
   "execution_count": 1,
   "metadata": {},
   "outputs": [],
   "source": [
    "import math\n",
    "import time\n",
    "import numpy as np\n",
    "import pandas as pd\n",
    "import datetime as dt\n",
    "\n",
    "from sklearn.preprocessing import LabelEncoder\n",
    "from sklearn.preprocessing import OneHotEncoder\n",
    "from sklearn.ensemble import RandomForestRegressor\n",
    "from sklearn.model_selection import train_test_split\n",
    "from sklearn.model_selection import GridSearchCV\n",
    "from sklearn.model_selection import RandomizedSearchCV\n",
    "from sklearn import linear_model\n",
    "from sklearn.metrics import accuracy_score\n",
    "\n",
    "from matplotlib import pyplot as plt\n",
    "from matplotlib import style\n",
    "style.use('seaborn')\n",
    "from IPython.display import display\n",
    "\n",
    "import warnings\n",
    "warnings.filterwarnings(\"ignore\")"
   ]
  },
  {
   "cell_type": "code",
   "execution_count": 2,
   "metadata": {},
   "outputs": [],
   "source": [
    "pd.options.display.max_rows = 10\n",
    "pd.options.display.float_format = \"{:.2f}\".format"
   ]
  },
  {
   "cell_type": "code",
   "execution_count": 3,
   "metadata": {},
   "outputs": [
    {
     "data": {
      "text/html": [
       "<div>\n",
       "<style scoped>\n",
       "    .dataframe tbody tr th:only-of-type {\n",
       "        vertical-align: middle;\n",
       "    }\n",
       "\n",
       "    .dataframe tbody tr th {\n",
       "        vertical-align: top;\n",
       "    }\n",
       "\n",
       "    .dataframe thead th {\n",
       "        text-align: right;\n",
       "    }\n",
       "</style>\n",
       "<table border=\"1\" class=\"dataframe\">\n",
       "  <thead>\n",
       "    <tr style=\"text-align: right;\">\n",
       "      <th></th>\n",
       "      <th>Latitude</th>\n",
       "      <th>Longitude</th>\n",
       "      <th>Depth</th>\n",
       "      <th>Depth Error</th>\n",
       "      <th>Depth Seismic Stations</th>\n",
       "      <th>Magnitude</th>\n",
       "      <th>Magnitude Error</th>\n",
       "      <th>Magnitude Seismic Stations</th>\n",
       "      <th>Azimuthal Gap</th>\n",
       "      <th>Horizontal Distance</th>\n",
       "      <th>Horizontal Error</th>\n",
       "      <th>Root Mean Square</th>\n",
       "    </tr>\n",
       "  </thead>\n",
       "  <tbody>\n",
       "    <tr>\n",
       "      <th>count</th>\n",
       "      <td>23412.00</td>\n",
       "      <td>23412.00</td>\n",
       "      <td>23412.00</td>\n",
       "      <td>4461.00</td>\n",
       "      <td>7097.00</td>\n",
       "      <td>23412.00</td>\n",
       "      <td>327.00</td>\n",
       "      <td>2564.00</td>\n",
       "      <td>7299.00</td>\n",
       "      <td>1604.00</td>\n",
       "      <td>1156.00</td>\n",
       "      <td>17352.00</td>\n",
       "    </tr>\n",
       "    <tr>\n",
       "      <th>mean</th>\n",
       "      <td>1.68</td>\n",
       "      <td>39.64</td>\n",
       "      <td>70.77</td>\n",
       "      <td>4.99</td>\n",
       "      <td>275.36</td>\n",
       "      <td>5.88</td>\n",
       "      <td>0.07</td>\n",
       "      <td>48.94</td>\n",
       "      <td>44.16</td>\n",
       "      <td>3.99</td>\n",
       "      <td>7.66</td>\n",
       "      <td>1.02</td>\n",
       "    </tr>\n",
       "    <tr>\n",
       "      <th>std</th>\n",
       "      <td>30.11</td>\n",
       "      <td>125.51</td>\n",
       "      <td>122.65</td>\n",
       "      <td>4.88</td>\n",
       "      <td>162.14</td>\n",
       "      <td>0.42</td>\n",
       "      <td>0.05</td>\n",
       "      <td>62.94</td>\n",
       "      <td>32.14</td>\n",
       "      <td>5.38</td>\n",
       "      <td>10.43</td>\n",
       "      <td>0.19</td>\n",
       "    </tr>\n",
       "    <tr>\n",
       "      <th>min</th>\n",
       "      <td>-77.08</td>\n",
       "      <td>-180.00</td>\n",
       "      <td>-1.10</td>\n",
       "      <td>0.00</td>\n",
       "      <td>0.00</td>\n",
       "      <td>5.50</td>\n",
       "      <td>0.00</td>\n",
       "      <td>0.00</td>\n",
       "      <td>0.00</td>\n",
       "      <td>0.00</td>\n",
       "      <td>0.09</td>\n",
       "      <td>0.00</td>\n",
       "    </tr>\n",
       "    <tr>\n",
       "      <th>25%</th>\n",
       "      <td>-18.65</td>\n",
       "      <td>-76.35</td>\n",
       "      <td>14.52</td>\n",
       "      <td>1.80</td>\n",
       "      <td>146.00</td>\n",
       "      <td>5.60</td>\n",
       "      <td>0.05</td>\n",
       "      <td>10.00</td>\n",
       "      <td>24.10</td>\n",
       "      <td>0.97</td>\n",
       "      <td>5.30</td>\n",
       "      <td>0.90</td>\n",
       "    </tr>\n",
       "    <tr>\n",
       "      <th>50%</th>\n",
       "      <td>-3.57</td>\n",
       "      <td>103.98</td>\n",
       "      <td>33.00</td>\n",
       "      <td>3.50</td>\n",
       "      <td>255.00</td>\n",
       "      <td>5.70</td>\n",
       "      <td>0.06</td>\n",
       "      <td>28.00</td>\n",
       "      <td>36.00</td>\n",
       "      <td>2.32</td>\n",
       "      <td>6.70</td>\n",
       "      <td>1.00</td>\n",
       "    </tr>\n",
       "    <tr>\n",
       "      <th>75%</th>\n",
       "      <td>26.19</td>\n",
       "      <td>145.03</td>\n",
       "      <td>54.00</td>\n",
       "      <td>6.30</td>\n",
       "      <td>384.00</td>\n",
       "      <td>6.00</td>\n",
       "      <td>0.08</td>\n",
       "      <td>66.00</td>\n",
       "      <td>54.00</td>\n",
       "      <td>4.72</td>\n",
       "      <td>8.10</td>\n",
       "      <td>1.13</td>\n",
       "    </tr>\n",
       "    <tr>\n",
       "      <th>max</th>\n",
       "      <td>86.00</td>\n",
       "      <td>180.00</td>\n",
       "      <td>700.00</td>\n",
       "      <td>91.30</td>\n",
       "      <td>934.00</td>\n",
       "      <td>9.10</td>\n",
       "      <td>0.41</td>\n",
       "      <td>821.00</td>\n",
       "      <td>360.00</td>\n",
       "      <td>37.87</td>\n",
       "      <td>99.00</td>\n",
       "      <td>3.44</td>\n",
       "    </tr>\n",
       "  </tbody>\n",
       "</table>\n",
       "</div>"
      ],
      "text/plain": [
       "       Latitude  Longitude    Depth  Depth Error  Depth Seismic Stations  \\\n",
       "count  23412.00   23412.00 23412.00      4461.00                 7097.00   \n",
       "mean       1.68      39.64    70.77         4.99                  275.36   \n",
       "std       30.11     125.51   122.65         4.88                  162.14   \n",
       "min      -77.08    -180.00    -1.10         0.00                    0.00   \n",
       "25%      -18.65     -76.35    14.52         1.80                  146.00   \n",
       "50%       -3.57     103.98    33.00         3.50                  255.00   \n",
       "75%       26.19     145.03    54.00         6.30                  384.00   \n",
       "max       86.00     180.00   700.00        91.30                  934.00   \n",
       "\n",
       "       Magnitude  Magnitude Error  Magnitude Seismic Stations  Azimuthal Gap  \\\n",
       "count   23412.00           327.00                     2564.00        7299.00   \n",
       "mean        5.88             0.07                       48.94          44.16   \n",
       "std         0.42             0.05                       62.94          32.14   \n",
       "min         5.50             0.00                        0.00           0.00   \n",
       "25%         5.60             0.05                       10.00          24.10   \n",
       "50%         5.70             0.06                       28.00          36.00   \n",
       "75%         6.00             0.08                       66.00          54.00   \n",
       "max         9.10             0.41                      821.00         360.00   \n",
       "\n",
       "       Horizontal Distance  Horizontal Error  Root Mean Square  \n",
       "count              1604.00           1156.00          17352.00  \n",
       "mean                  3.99              7.66              1.02  \n",
       "std                   5.38             10.43              0.19  \n",
       "min                   0.00              0.09              0.00  \n",
       "25%                   0.97              5.30              0.90  \n",
       "50%                   2.32              6.70              1.00  \n",
       "75%                   4.72              8.10              1.13  \n",
       "max                  37.87             99.00              3.44  "
      ]
     },
     "execution_count": 3,
     "metadata": {},
     "output_type": "execute_result"
    }
   ],
   "source": [
    "my_eq_df = pd.read_csv('eq_database_place.csv')\n",
    "my_eq_df.describe()"
   ]
  },
  {
   "cell_type": "markdown",
   "metadata": {},
   "source": [
    "## Convert string values into numbers"
   ]
  },
  {
   "cell_type": "code",
   "execution_count": 4,
   "metadata": {},
   "outputs": [],
   "source": [
    "def label_integer_encoder(my_df, series_name):\n",
    "    \"\"\"\n",
    "    This function is encoding values of a series\n",
    "    Parameter\n",
    "    ---------\n",
    "    * `my_df`: Pandas dataframe\n",
    "    * `series_name`: Pandas series name to encode\n",
    "    Returns : a encoded array\n",
    "    \"\"\"\n",
    "    arr_name = np.array(list(my_df[str(series_name)]))\n",
    "    label_arr_encoder = LabelEncoder()\n",
    "    integer_arr_encoded = label_arr_encoder.fit_transform(arr_name)\n",
    "    \n",
    "    return integer_arr_encoded"
   ]
  },
  {
   "cell_type": "code",
   "execution_count": 5,
   "metadata": {},
   "outputs": [
    {
     "data": {
      "text/html": [
       "<div>\n",
       "<style scoped>\n",
       "    .dataframe tbody tr th:only-of-type {\n",
       "        vertical-align: middle;\n",
       "    }\n",
       "\n",
       "    .dataframe tbody tr th {\n",
       "        vertical-align: top;\n",
       "    }\n",
       "\n",
       "    .dataframe thead th {\n",
       "        text-align: right;\n",
       "    }\n",
       "</style>\n",
       "<table border=\"1\" class=\"dataframe\">\n",
       "  <thead>\n",
       "    <tr style=\"text-align: right;\">\n",
       "      <th></th>\n",
       "      <th>Date</th>\n",
       "      <th>Time</th>\n",
       "      <th>Latitude</th>\n",
       "      <th>Longitude</th>\n",
       "      <th>Type</th>\n",
       "      <th>Depth</th>\n",
       "      <th>Depth Error</th>\n",
       "      <th>Depth Seismic Stations</th>\n",
       "      <th>Magnitude</th>\n",
       "      <th>Magnitude Type</th>\n",
       "      <th>...</th>\n",
       "      <th>Azimuthal Gap</th>\n",
       "      <th>Horizontal Distance</th>\n",
       "      <th>Horizontal Error</th>\n",
       "      <th>Root Mean Square</th>\n",
       "      <th>ID</th>\n",
       "      <th>Source</th>\n",
       "      <th>Location Source</th>\n",
       "      <th>Magnitude Source</th>\n",
       "      <th>Status</th>\n",
       "      <th>Place</th>\n",
       "    </tr>\n",
       "  </thead>\n",
       "  <tbody>\n",
       "    <tr>\n",
       "      <th>1</th>\n",
       "      <td>01/04/1965</td>\n",
       "      <td>11:29:49</td>\n",
       "      <td>1.86</td>\n",
       "      <td>127.35</td>\n",
       "      <td>Earthquake</td>\n",
       "      <td>80.00</td>\n",
       "      <td>nan</td>\n",
       "      <td>nan</td>\n",
       "      <td>5.80</td>\n",
       "      <td>MW</td>\n",
       "      <td>...</td>\n",
       "      <td>nan</td>\n",
       "      <td>nan</td>\n",
       "      <td>nan</td>\n",
       "      <td>nan</td>\n",
       "      <td>ISCGEM860737</td>\n",
       "      <td>ISCGEM</td>\n",
       "      <td>ISCGEM</td>\n",
       "      <td>ISCGEM</td>\n",
       "      <td>Automatic</td>\n",
       "      <td>Ngidihopitonu, ID</td>\n",
       "    </tr>\n",
       "    <tr>\n",
       "      <th>10</th>\n",
       "      <td>01/17/1965</td>\n",
       "      <td>20:57:41</td>\n",
       "      <td>-6.81</td>\n",
       "      <td>108.99</td>\n",
       "      <td>Earthquake</td>\n",
       "      <td>227.90</td>\n",
       "      <td>nan</td>\n",
       "      <td>nan</td>\n",
       "      <td>5.90</td>\n",
       "      <td>MW</td>\n",
       "      <td>...</td>\n",
       "      <td>nan</td>\n",
       "      <td>nan</td>\n",
       "      <td>nan</td>\n",
       "      <td>nan</td>\n",
       "      <td>ISCGEM861155</td>\n",
       "      <td>ISCGEM</td>\n",
       "      <td>ISCGEM</td>\n",
       "      <td>ISCGEM</td>\n",
       "      <td>Automatic</td>\n",
       "      <td>Bulakamba, ID</td>\n",
       "    </tr>\n",
       "    <tr>\n",
       "      <th>11</th>\n",
       "      <td>01/24/1965</td>\n",
       "      <td>00:11:17</td>\n",
       "      <td>-2.61</td>\n",
       "      <td>125.95</td>\n",
       "      <td>Earthquake</td>\n",
       "      <td>20.00</td>\n",
       "      <td>nan</td>\n",
       "      <td>nan</td>\n",
       "      <td>8.20</td>\n",
       "      <td>MW</td>\n",
       "      <td>...</td>\n",
       "      <td>nan</td>\n",
       "      <td>nan</td>\n",
       "      <td>nan</td>\n",
       "      <td>nan</td>\n",
       "      <td>ISCGEM861299</td>\n",
       "      <td>ISCGEM</td>\n",
       "      <td>ISCGEM</td>\n",
       "      <td>ISCGEM</td>\n",
       "      <td>Automatic</td>\n",
       "      <td>Umaoya, ID</td>\n",
       "    </tr>\n",
       "    <tr>\n",
       "      <th>54</th>\n",
       "      <td>02/15/1965</td>\n",
       "      <td>10:43:29</td>\n",
       "      <td>3.03</td>\n",
       "      <td>125.95</td>\n",
       "      <td>Earthquake</td>\n",
       "      <td>100.00</td>\n",
       "      <td>nan</td>\n",
       "      <td>nan</td>\n",
       "      <td>5.90</td>\n",
       "      <td>MW</td>\n",
       "      <td>...</td>\n",
       "      <td>nan</td>\n",
       "      <td>nan</td>\n",
       "      <td>nan</td>\n",
       "      <td>nan</td>\n",
       "      <td>ISCGEMSUP860207</td>\n",
       "      <td>ISCGEMSUP</td>\n",
       "      <td>ISCGEM</td>\n",
       "      <td>ISCGEM</td>\n",
       "      <td>Automatic</td>\n",
       "      <td>Enunawira, ID</td>\n",
       "    </tr>\n",
       "    <tr>\n",
       "      <th>93</th>\n",
       "      <td>03/19/1965</td>\n",
       "      <td>16:20:53</td>\n",
       "      <td>-1.89</td>\n",
       "      <td>119.84</td>\n",
       "      <td>Earthquake</td>\n",
       "      <td>40.00</td>\n",
       "      <td>nan</td>\n",
       "      <td>nan</td>\n",
       "      <td>6.00</td>\n",
       "      <td>MW</td>\n",
       "      <td>...</td>\n",
       "      <td>nan</td>\n",
       "      <td>nan</td>\n",
       "      <td>nan</td>\n",
       "      <td>nan</td>\n",
       "      <td>ISCGEM858722</td>\n",
       "      <td>ISCGEM</td>\n",
       "      <td>ISCGEM</td>\n",
       "      <td>ISCGEM</td>\n",
       "      <td>Automatic</td>\n",
       "      <td>Babana, ID</td>\n",
       "    </tr>\n",
       "  </tbody>\n",
       "</table>\n",
       "<p>5 rows × 22 columns</p>\n",
       "</div>"
      ],
      "text/plain": [
       "          Date      Time  Latitude  Longitude        Type  Depth  Depth Error  \\\n",
       "1   01/04/1965  11:29:49      1.86     127.35  Earthquake  80.00          nan   \n",
       "10  01/17/1965  20:57:41     -6.81     108.99  Earthquake 227.90          nan   \n",
       "11  01/24/1965  00:11:17     -2.61     125.95  Earthquake  20.00          nan   \n",
       "54  02/15/1965  10:43:29      3.03     125.95  Earthquake 100.00          nan   \n",
       "93  03/19/1965  16:20:53     -1.89     119.84  Earthquake  40.00          nan   \n",
       "\n",
       "    Depth Seismic Stations  Magnitude Magnitude Type        ...          \\\n",
       "1                      nan       5.80             MW        ...           \n",
       "10                     nan       5.90             MW        ...           \n",
       "11                     nan       8.20             MW        ...           \n",
       "54                     nan       5.90             MW        ...           \n",
       "93                     nan       6.00             MW        ...           \n",
       "\n",
       "    Azimuthal Gap  Horizontal Distance  Horizontal Error  Root Mean Square  \\\n",
       "1             nan                  nan               nan               nan   \n",
       "10            nan                  nan               nan               nan   \n",
       "11            nan                  nan               nan               nan   \n",
       "54            nan                  nan               nan               nan   \n",
       "93            nan                  nan               nan               nan   \n",
       "\n",
       "                 ID     Source Location Source Magnitude Source     Status  \\\n",
       "1      ISCGEM860737     ISCGEM          ISCGEM           ISCGEM  Automatic   \n",
       "10     ISCGEM861155     ISCGEM          ISCGEM           ISCGEM  Automatic   \n",
       "11     ISCGEM861299     ISCGEM          ISCGEM           ISCGEM  Automatic   \n",
       "54  ISCGEMSUP860207  ISCGEMSUP          ISCGEM           ISCGEM  Automatic   \n",
       "93     ISCGEM858722     ISCGEM          ISCGEM           ISCGEM  Automatic   \n",
       "\n",
       "                Place  \n",
       "1   Ngidihopitonu, ID  \n",
       "10      Bulakamba, ID  \n",
       "11         Umaoya, ID  \n",
       "54      Enunawira, ID  \n",
       "93         Babana, ID  \n",
       "\n",
       "[5 rows x 22 columns]"
      ]
     },
     "metadata": {},
     "output_type": "display_data"
    },
    {
     "name": "stdout",
     "output_type": "stream",
     "text": [
      "2241\n"
     ]
    }
   ],
   "source": [
    "dummy_eq = my_eq_df.copy()\n",
    "\n",
    "# country wise data alone\n",
    "dummy_df = dummy_eq[dummy_eq['Place'].str.contains('ID')]\n",
    "# dummy_df = dummy_df.reindex(np.random.permutation(dummy_df.index))\n",
    "\n",
    "display(dummy_df.head())\n",
    "print(len(dummy_df))"
   ]
  },
  {
   "cell_type": "markdown",
   "metadata": {},
   "source": [
    "## Actual integer conversion"
   ]
  },
  {
   "cell_type": "code",
   "execution_count": 6,
   "metadata": {},
   "outputs": [],
   "source": [
    "dummy_df['Type'] = label_integer_encoder(dummy_df, 'Type')\n",
    "dummy_df['Magnitude Type'] = label_integer_encoder(dummy_df, 'Magnitude Type')\n",
    "dummy_df['Place'] = label_integer_encoder(dummy_df, 'Place')\n",
    "dummy_df['Status'] = label_integer_encoder(dummy_df, 'Status')\n",
    "dummy_df['Depth Error'] = label_integer_encoder(dummy_df, 'Depth Error')\n",
    "dummy_df['Depth Seismic Stations'] = label_integer_encoder(dummy_df, 'Depth Seismic Stations')\n",
    "dummy_df['Magnitude Error'] = label_integer_encoder(dummy_df, 'Magnitude Error')\n",
    "dummy_df['Magnitude Seismic Stations'] = label_integer_encoder(dummy_df, 'Magnitude Seismic Stations')\n",
    "dummy_df['Azimuthal Gap'] = label_integer_encoder(dummy_df, 'Azimuthal Gap')\n",
    "dummy_df['Horizontal Distance'] = label_integer_encoder(dummy_df, 'Horizontal Distance')\n",
    "dummy_df['Horizontal Error'] = label_integer_encoder(dummy_df, 'Horizontal Error')\n",
    "dummy_df['Root Mean Square'] = label_integer_encoder(dummy_df, 'Root Mean Square')"
   ]
  },
  {
   "cell_type": "markdown",
   "metadata": {},
   "source": [
    "## Plot of `dummy_df[Type]` to show major reasons"
   ]
  },
  {
   "cell_type": "code",
   "execution_count": 7,
   "metadata": {},
   "outputs": [
    {
     "data": {
      "image/png": "[encoded data removed]",
      "text/plain": [
       "<Figure size 504x360 with 1 Axes>"
      ]
     },
     "metadata": {},
     "output_type": "display_data"
    },
    {
     "data": {
      "image/png": "[encoded data removed]",
      "text/plain": [
       "<Figure size 504x360 with 1 Axes>"
      ]
     },
     "metadata": {},
     "output_type": "display_data"
    }
   ],
   "source": [
    "dummy_df.groupby('Type').size().plot(\n",
    "    figsize=(7, 5), kind='bar', title=\"Disaster Type\")\n",
    "plt.show()\n",
    "\n",
    "# 0 --> Earthquake\n",
    "# 1 --> Explosion\n",
    "# 2 --> Nuclear Explosion\n",
    "\n",
    "# plot of dummy_df[status]\n",
    "\n",
    "dummy_df.groupby('Status').size().plot(\n",
    "    figsize=(7, 5), kind='bar', title=\"Status\")\n",
    "plt.show()\n",
    "\n",
    "# 0 --> Automatic\n",
    "# 1 --> Reviewed"
   ]
  },
  {
   "cell_type": "markdown",
   "metadata": {},
   "source": [
    "## Remove Unwanted"
   ]
  },
  {
   "cell_type": "code",
   "execution_count": 8,
   "metadata": {},
   "outputs": [
    {
     "data": {
      "text/html": [
       "<div>\n",
       "<style scoped>\n",
       "    .dataframe tbody tr th:only-of-type {\n",
       "        vertical-align: middle;\n",
       "    }\n",
       "\n",
       "    .dataframe tbody tr th {\n",
       "        vertical-align: top;\n",
       "    }\n",
       "\n",
       "    .dataframe thead th {\n",
       "        text-align: right;\n",
       "    }\n",
       "</style>\n",
       "<table border=\"1\" class=\"dataframe\">\n",
       "  <thead>\n",
       "    <tr style=\"text-align: right;\">\n",
       "      <th></th>\n",
       "      <th>Date</th>\n",
       "      <th>Time</th>\n",
       "      <th>Latitude</th>\n",
       "      <th>Longitude</th>\n",
       "      <th>Type</th>\n",
       "      <th>Depth</th>\n",
       "      <th>Depth Error</th>\n",
       "      <th>Depth Seismic Stations</th>\n",
       "      <th>Magnitude</th>\n",
       "      <th>Magnitude Type</th>\n",
       "      <th>Magnitude Error</th>\n",
       "      <th>Magnitude Seismic Stations</th>\n",
       "      <th>Azimuthal Gap</th>\n",
       "      <th>Horizontal Distance</th>\n",
       "      <th>Horizontal Error</th>\n",
       "      <th>Root Mean Square</th>\n",
       "      <th>Status</th>\n",
       "      <th>Place</th>\n",
       "    </tr>\n",
       "  </thead>\n",
       "  <tbody>\n",
       "    <tr>\n",
       "      <th>1</th>\n",
       "      <td>01/04/1965</td>\n",
       "      <td>11:29:49</td>\n",
       "      <td>1.86</td>\n",
       "      <td>127.35</td>\n",
       "      <td>0</td>\n",
       "      <td>80.00</td>\n",
       "      <td>879</td>\n",
       "      <td>551</td>\n",
       "      <td>5.80</td>\n",
       "      <td>2</td>\n",
       "      <td>78</td>\n",
       "      <td>529</td>\n",
       "      <td>766</td>\n",
       "      <td>1119</td>\n",
       "      <td>1076</td>\n",
       "      <td>660</td>\n",
       "      <td>0</td>\n",
       "      <td>160</td>\n",
       "    </tr>\n",
       "    <tr>\n",
       "      <th>10</th>\n",
       "      <td>01/17/1965</td>\n",
       "      <td>20:57:41</td>\n",
       "      <td>-6.81</td>\n",
       "      <td>108.99</td>\n",
       "      <td>0</td>\n",
       "      <td>227.90</td>\n",
       "      <td>1229</td>\n",
       "      <td>1103</td>\n",
       "      <td>5.90</td>\n",
       "      <td>2</td>\n",
       "      <td>1485</td>\n",
       "      <td>1416</td>\n",
       "      <td>1135</td>\n",
       "      <td>1488</td>\n",
       "      <td>1445</td>\n",
       "      <td>277</td>\n",
       "      <td>0</td>\n",
       "      <td>43</td>\n",
       "    </tr>\n",
       "    <tr>\n",
       "      <th>11</th>\n",
       "      <td>01/24/1965</td>\n",
       "      <td>00:11:17</td>\n",
       "      <td>-2.61</td>\n",
       "      <td>125.95</td>\n",
       "      <td>0</td>\n",
       "      <td>20.00</td>\n",
       "      <td>1228</td>\n",
       "      <td>1104</td>\n",
       "      <td>8.20</td>\n",
       "      <td>2</td>\n",
       "      <td>1486</td>\n",
       "      <td>1415</td>\n",
       "      <td>1136</td>\n",
       "      <td>1489</td>\n",
       "      <td>1446</td>\n",
       "      <td>276</td>\n",
       "      <td>0</td>\n",
       "      <td>296</td>\n",
       "    </tr>\n",
       "    <tr>\n",
       "      <th>54</th>\n",
       "      <td>02/15/1965</td>\n",
       "      <td>10:43:29</td>\n",
       "      <td>3.03</td>\n",
       "      <td>125.95</td>\n",
       "      <td>0</td>\n",
       "      <td>100.00</td>\n",
       "      <td>1227</td>\n",
       "      <td>1105</td>\n",
       "      <td>5.90</td>\n",
       "      <td>2</td>\n",
       "      <td>1487</td>\n",
       "      <td>1414</td>\n",
       "      <td>1137</td>\n",
       "      <td>1490</td>\n",
       "      <td>1447</td>\n",
       "      <td>275</td>\n",
       "      <td>0</td>\n",
       "      <td>71</td>\n",
       "    </tr>\n",
       "    <tr>\n",
       "      <th>93</th>\n",
       "      <td>03/19/1965</td>\n",
       "      <td>16:20:53</td>\n",
       "      <td>-1.89</td>\n",
       "      <td>119.84</td>\n",
       "      <td>0</td>\n",
       "      <td>40.00</td>\n",
       "      <td>1226</td>\n",
       "      <td>1106</td>\n",
       "      <td>6.00</td>\n",
       "      <td>2</td>\n",
       "      <td>1488</td>\n",
       "      <td>1413</td>\n",
       "      <td>1138</td>\n",
       "      <td>1491</td>\n",
       "      <td>1448</td>\n",
       "      <td>274</td>\n",
       "      <td>0</td>\n",
       "      <td>11</td>\n",
       "    </tr>\n",
       "  </tbody>\n",
       "</table>\n",
       "</div>"
      ],
      "text/plain": [
       "          Date      Time  Latitude  Longitude  Type  Depth  Depth Error  \\\n",
       "1   01/04/1965  11:29:49      1.86     127.35     0  80.00          879   \n",
       "10  01/17/1965  20:57:41     -6.81     108.99     0 227.90         1229   \n",
       "11  01/24/1965  00:11:17     -2.61     125.95     0  20.00         1228   \n",
       "54  02/15/1965  10:43:29      3.03     125.95     0 100.00         1227   \n",
       "93  03/19/1965  16:20:53     -1.89     119.84     0  40.00         1226   \n",
       "\n",
       "    Depth Seismic Stations  Magnitude  Magnitude Type  Magnitude Error  \\\n",
       "1                      551       5.80               2               78   \n",
       "10                    1103       5.90               2             1485   \n",
       "11                    1104       8.20               2             1486   \n",
       "54                    1105       5.90               2             1487   \n",
       "93                    1106       6.00               2             1488   \n",
       "\n",
       "    Magnitude Seismic Stations  Azimuthal Gap  Horizontal Distance  \\\n",
       "1                          529            766                 1119   \n",
       "10                        1416           1135                 1488   \n",
       "11                        1415           1136                 1489   \n",
       "54                        1414           1137                 1490   \n",
       "93                        1413           1138                 1491   \n",
       "\n",
       "    Horizontal Error  Root Mean Square  Status  Place  \n",
       "1               1076               660       0    160  \n",
       "10              1445               277       0     43  \n",
       "11              1446               276       0    296  \n",
       "54              1447               275       0     71  \n",
       "93              1448               274       0     11  "
      ]
     },
     "metadata": {},
     "output_type": "display_data"
    }
   ],
   "source": [
    "dummy_df = dummy_df.drop(['ID', 'Source', 'Location Source', 'Magnitude Source'], axis=1)\n",
    "display(dummy_df.head())"
   ]
  },
  {
   "cell_type": "markdown",
   "metadata": {},
   "source": [
    "## Time object into numerical values"
   ]
  },
  {
   "cell_type": "code",
   "execution_count": 9,
   "metadata": {},
   "outputs": [],
   "source": [
    "timestamp = []\n",
    "for d, t in zip(dummy_df['Date'], dummy_df['Time']):\n",
    "    try:\n",
    "        ts = dt.datetime.strptime(d + ' ' + t, '%m/%d/%Y %H:%M:%S')\n",
    "        timestamp.append(time.mktime(ts.timetuple())) # inverse funtion of localtime\n",
    "    except ValueError as e:\n",
    "        timestamp.append('ValueError')\n",
    "\n",
    "time_s = pd.Series(timestamp)\n",
    "dummy_df['TimeStamp'] = time_s.values\n",
    "dummy_df = dummy_df.drop(['Date', 'Time'], axis=1)"
   ]
  },
  {
   "cell_type": "markdown",
   "metadata": {},
   "source": [
    "## Split into two"
   ]
  },
  {
   "cell_type": "code",
   "execution_count": 10,
   "metadata": {},
   "outputs": [],
   "source": [
    "X = dummy_df[['TimeStamp', 'Latitude', 'Longitude', 'Magnitude Error', 'Magnitude Type', 'Depth Error', \n",
    "              'Azimuthal Gap', 'Horizontal Distance', 'Horizontal Error', 'Root Mean Square']]\n",
    "y = dummy_df[['Magnitude', 'Depth', 'Place']]"
   ]
  },
  {
   "cell_type": "markdown",
   "metadata": {},
   "source": [
    "## Train & Test Split"
   ]
  },
  {
   "cell_type": "code",
   "execution_count": 11,
   "metadata": {},
   "outputs": [],
   "source": [
    "X_train, X_test, y_train, y_test = train_test_split(X, y, test_size=0.2, random_state=10)"
   ]
  },
  {
   "cell_type": "markdown",
   "metadata": {},
   "source": [
    "## Fitting the model -- __RandomForestRegressor__"
   ]
  },
  {
   "cell_type": "code",
   "execution_count": 12,
   "metadata": {
    "scrolled": true
   },
   "outputs": [
    {
     "data": {
      "text/plain": [
       "array([[  5.71 ,  79.93 , 146.5  ],\n",
       "       [  5.73 ,  55.92 , 143.7  ],\n",
       "       [  5.53 ,  36.764, 301.   ],\n",
       "       ...,\n",
       "       [  5.71 ,  48.2  ,  13.   ],\n",
       "       [  6.17 ,  30.45 , 121.9  ],\n",
       "       [  5.82 ,  51.08 , 125.7  ]])"
      ]
     },
     "metadata": {},
     "output_type": "display_data"
    }
   ],
   "source": [
    "reg = RandomForestRegressor()\n",
    "reg.fit(X_train, y_train)\n",
    "preds = reg.predict(X_test)\n",
    "display(preds)"
   ]
  },
  {
   "cell_type": "code",
   "execution_count": 13,
   "metadata": {},
   "outputs": [
    {
     "data": {
      "text/plain": [
       "0.6398121045884814"
      ]
     },
     "metadata": {},
     "output_type": "display_data"
    }
   ],
   "source": [
    "accuracy = reg.score(X_test, y_test)\n",
    "display(accuracy)"
   ]
  },
  {
   "cell_type": "markdown",
   "metadata": {},
   "source": [
    "## Fitting the model -- __GridSearchCV__"
   ]
  },
  {
   "cell_type": "markdown",
   "metadata": {},
   "source": [
    "__Exhaustively searches for every single combination.__"
   ]
  },
  {
   "cell_type": "code",
   "execution_count": 14,
   "metadata": {},
   "outputs": [],
   "source": [
    "parameters = {'n_estimators' : [13, 18, 43, 77, 45, 450]}\n",
    "gs = GridSearchCV(reg, parameters)"
   ]
  },
  {
   "cell_type": "markdown",
   "metadata": {},
   "source": [
    "Do tune the above parameters and test the results"
   ]
  },
  {
   "cell_type": "code",
   "execution_count": 15,
   "metadata": {
    "scrolled": true
   },
   "outputs": [
    {
     "data": {
      "text/plain": [
       "array([[  5.87777778,  67.36377778, 151.19333333],\n",
       "       [  5.83644444,  60.5446    , 154.28      ],\n",
       "       [  5.62422222,  41.30848889, 299.34222222],\n",
       "       ...,\n",
       "       [  5.72866667,  44.03822222,  16.72      ],\n",
       "       [  6.14377778,  25.25291111, 121.24      ],\n",
       "       [  5.73133333,  46.61084444, 135.66888889]])"
      ]
     },
     "metadata": {},
     "output_type": "display_data"
    }
   ],
   "source": [
    "grid_fit = gs.fit(X_train, y_train)\n",
    "best_fit = grid_fit.best_estimator_\n",
    "gs_preds = best_fit.predict(X_test)\n",
    "display(gs_preds)"
   ]
  },
  {
   "cell_type": "code",
   "execution_count": 16,
   "metadata": {},
   "outputs": [
    {
     "data": {
      "text/plain": [
       "0.6836498159680803"
      ]
     },
     "metadata": {},
     "output_type": "display_data"
    }
   ],
   "source": [
    "gs_accuracy = best_fit.score(X_test, y_test)\n",
    "display(gs_accuracy)"
   ]
  },
  {
   "cell_type": "code",
   "execution_count": 17,
   "metadata": {},
   "outputs": [],
   "source": [
    "l_preds = [list(p) for p in preds]\n",
    "only_places = [p[2] for p in l_preds]\n",
    "rounded_places = [math.floor(i) for i in only_places]\n",
    "# display(rounded_places)"
   ]
  },
  {
   "cell_type": "markdown",
   "metadata": {},
   "source": [
    "## String label encoding and decoding"
   ]
  },
  {
   "cell_type": "code",
   "execution_count": 18,
   "metadata": {},
   "outputs": [
    {
     "data": {
      "text/plain": [
       "['hyderabad', 'bangalore', 'chennai', 'bangalore', 'chennai', 'hyderabad']"
      ]
     },
     "metadata": {},
     "output_type": "display_data"
    },
    {
     "data": {
      "text/plain": [
       "[2, 0, 1, 0, 1, 2]"
      ]
     },
     "metadata": {},
     "output_type": "display_data"
    },
    {
     "data": {
      "text/plain": [
       "['hyderabad', 'bangalore', 'chennai', 'bangalore', 'chennai', 'hyderabad']"
      ]
     },
     "metadata": {},
     "output_type": "display_data"
    }
   ],
   "source": [
    "test_encoder = ['hyderabad', 'bangalore', 'chennai', 'bangalore', 'chennai', 'hyderabad']\n",
    "display(test_encoder)\n",
    "le = LabelEncoder()\n",
    "le.fit(test_encoder)\n",
    "enco = le.transform(test_encoder)\n",
    "display(list(enco))\n",
    "deco = le.inverse_transform(enco)\n",
    "display(list(deco))"
   ]
  },
  {
   "cell_type": "code",
   "execution_count": null,
   "metadata": {},
   "outputs": [],
   "source": []
  }
 ],
 "metadata": {
  "kernelspec": {
   "display_name": "Python 3",
   "language": "python",
   "name": "python3"
  },
  "language_info": {
   "codemirror_mode": {
    "name": "ipython",
    "version": 3
   },
   "file_extension": ".py",
   "mimetype": "text/x-python",
   "name": "python",
   "nbconvert_exporter": "python",
   "pygments_lexer": "ipython3",
   "version": "3.6.6"
  }
 },
 "nbformat": 4,
 "nbformat_minor": 2
}
